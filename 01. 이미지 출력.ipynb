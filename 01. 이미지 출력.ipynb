{
 "cells": [
  {
   "cell_type": "markdown",
   "id": "3a858b24",
   "metadata": {},
   "source": [
    "# 환경 설정\n",
    "\n",
    "terminal에서 다음 명령 수행\n",
    "> pip install opencv-python"
   ]
  },
  {
   "cell_type": "code",
   "execution_count": 1,
   "id": "025d0d76",
   "metadata": {},
   "outputs": [
    {
     "data": {
      "text/plain": [
       "'4.7.0'"
      ]
     },
     "execution_count": 1,
     "metadata": {},
     "output_type": "execute_result"
    }
   ],
   "source": [
    "import cv2\n",
    "cv2.__version__"
   ]
  },
  {
   "cell_type": "markdown",
   "id": "479c0453",
   "metadata": {},
   "source": [
    "# OpenCV (CV - Computer Vision)\n",
    "실시간 컴퓨터 비전을 목적으로 한 프로그래밍 라이브러리\n",
    "다양한 영상(이미지) 처리에 사용되는 오픈 소스 라이브러리"
   ]
  },
  {
   "cell_type": "markdown",
   "id": "58386e7d",
   "metadata": {},
   "source": [
    "### 1. 이미지 출력"
   ]
  },
  {
   "cell_type": "code",
   "execution_count": 2,
   "id": "e9d2edb7",
   "metadata": {},
   "outputs": [],
   "source": [
    "import cv2\n",
    "\n",
    "# imread - 해당 경로의 파일 읽어오기\n",
    "img = cv2.imread('cat.jpg')\n",
    "\n",
    "# imshow - cat 이라는 이름의 창에 img 표시\n",
    "cv2.imshow('cat', img)\n",
    "\n",
    "# 지정된 시간(ms)동안 사용자의 키 입력대기\n",
    "cv2.waitKey(5000)\n",
    "\n",
    "# 모든 창 닫기\n",
    "cv2.destroyAllWindows()"
   ]
  },
  {
   "cell_type": "markdown",
   "id": "812d4f65",
   "metadata": {},
   "source": [
    "#### 읽기 옵션\n",
    "1. cv2.IMREAD_COLOR: 컬러 이미지, 투명 영역은 무시 (기본값)\n",
    "2. cv2.INREAD_GRAYSCALE: 흑백 이미지\n",
    "3. cv2.IMREAD_UNCHANGED: 투명 영역까지 포함"
   ]
  },
  {
   "cell_type": "code",
   "execution_count": null,
   "id": "ffd534e3",
   "metadata": {},
   "outputs": [],
   "source": [
    "import cv2\n",
    "img_color = cv2.imread('cat.jpg', cv2.IMREAD_COLOR)\n",
    "img_gray = cv2.imread('cat.jpg', cv2.IMREAD_GRAYSCALE)\n",
    "img_unchanged = cv2.imread('cat.jpg', cv2.IMREAD_UNCHANGED)\n",
    "\n",
    "\n",
    "cv2.imshow('img_color', img_color)\n",
    "cv2.imshow('img_gray', img_gray)\n",
    "cv2.imshow('img_unchanged', img_unchanged)\n",
    "\n",
    "cv2.waitKey(0)\n",
    "cv2.destroyAllWindows()"
   ]
  },
  {
   "cell_type": "markdown",
   "id": "d0d73099",
   "metadata": {},
   "source": [
    "#### Shape\n",
    "이미지의 height, width, channel의 정보"
   ]
  },
  {
   "cell_type": "code",
   "execution_count": null,
   "id": "4b7a8875",
   "metadata": {},
   "outputs": [],
   "source": [
    "import cv2\n",
    "\n",
    "img = cv2.imread('cat.jpg')\n",
    "img.shape # 세로, 가로, channel"
   ]
  },
  {
   "cell_type": "code",
   "execution_count": null,
   "id": "8b875e0b",
   "metadata": {},
   "outputs": [],
   "source": []
  }
 ],
 "metadata": {
  "kernelspec": {
   "display_name": "Python 3 (ipykernel)",
   "language": "python",
   "name": "python3"
  },
  "language_info": {
   "codemirror_mode": {
    "name": "ipython",
    "version": 3
   },
   "file_extension": ".py",
   "mimetype": "text/x-python",
   "name": "python",
   "nbconvert_exporter": "python",
   "pygments_lexer": "ipython3",
   "version": "3.8.13"
  }
 },
 "nbformat": 4,
 "nbformat_minor": 5
}
