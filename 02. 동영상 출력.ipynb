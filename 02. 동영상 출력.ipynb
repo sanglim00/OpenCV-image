{
 "cells": [
  {
   "cell_type": "markdown",
   "id": "00a5f18c",
   "metadata": {},
   "source": [
    "### 2. 동영상 출력"
   ]
  },
  {
   "cell_type": "markdown",
   "id": "ae61bdef",
   "metadata": {},
   "source": [
    "#### 동영상 파일 출력"
   ]
  },
  {
   "cell_type": "code",
   "execution_count": 2,
   "id": "5bc58e2d",
   "metadata": {},
   "outputs": [
    {
     "name": "stdout",
     "output_type": "stream",
     "text": [
      "더 이상 가져올 프레임이 없습니다.\n"
     ]
    }
   ],
   "source": [
    "import cv2\n",
    "\n",
    "capture = cv2.VideoCapture('video.mp4')\n",
    "\n",
    "#isOpened(): 동영상 파일이 올바르게 열렸는가\n",
    "while capture.isOpened():\n",
    "    ret, frame = capture.read() #ret: 성공여부, frame: 받아온 이미지 (프레임)\n",
    "    if not ret:\n",
    "        print('더 이상 가져올 프레임이 없습니다.')\n",
    "        break\n",
    "    \n",
    "    cv2.imshow('video', frame)\n",
    "    \n",
    "    if cv2.waitKey(20) == ord('q'):\n",
    "        print('사용자 입력에 의해 종료합니다.')\n",
    "        break\n",
    "        \n",
    "capture.release() #자원해제\n",
    "cv2.destroyAllWindows() #모든 창 닫기"
   ]
  },
  {
   "cell_type": "code",
   "execution_count": null,
   "id": "6a2656a2",
   "metadata": {},
   "outputs": [],
   "source": []
  }
 ],
 "metadata": {
  "kernelspec": {
   "display_name": "Python 3 (ipykernel)",
   "language": "python",
   "name": "python3"
  },
  "language_info": {
   "codemirror_mode": {
    "name": "ipython",
    "version": 3
   },
   "file_extension": ".py",
   "mimetype": "text/x-python",
   "name": "python",
   "nbconvert_exporter": "python",
   "pygments_lexer": "ipython3",
   "version": "3.8.13"
  }
 },
 "nbformat": 4,
 "nbformat_minor": 5
}
